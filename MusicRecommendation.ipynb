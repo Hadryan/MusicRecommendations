{
 "cells": [
  {
   "cell_type": "code",
   "execution_count": 1,
   "metadata": {},
   "outputs": [],
   "source": [
    "# Importing libraries\n",
    "import pandas as pd \n",
    "import numpy as np \n",
    "import matplotlib.pyplot as plt\n",
    "from sklearn.model_selection import train_test_split \n",
    "from sklearn.linear_model import LinearRegression\n",
    "import seaborn as sns\n",
    "from sklearn import metrics\n",
    "%matplotlib inline\n"
   ]
  },
  {
   "cell_type": "code",
   "execution_count": 2,
   "metadata": {},
   "outputs": [
    {
     "data": {
      "text/html": [
       "<div>\n",
       "<style scoped>\n",
       "    .dataframe tbody tr th:only-of-type {\n",
       "        vertical-align: middle;\n",
       "    }\n",
       "\n",
       "    .dataframe tbody tr th {\n",
       "        vertical-align: top;\n",
       "    }\n",
       "\n",
       "    .dataframe thead th {\n",
       "        text-align: right;\n",
       "    }\n",
       "</style>\n",
       "<table border=\"1\" class=\"dataframe\">\n",
       "  <thead>\n",
       "    <tr style=\"text-align: right;\">\n",
       "      <th></th>\n",
       "      <th>SongID</th>\n",
       "      <th>SongTitle</th>\n",
       "      <th>Genres</th>\n",
       "    </tr>\n",
       "  </thead>\n",
       "  <tbody>\n",
       "    <tr>\n",
       "      <th>0</th>\n",
       "      <td>1</td>\n",
       "      <td>Smells Like Teen Spirit - Nirvana</td>\n",
       "      <td>Classical</td>\n",
       "    </tr>\n",
       "    <tr>\n",
       "      <th>1</th>\n",
       "      <td>2</td>\n",
       "      <td>Imagine - John Lennon</td>\n",
       "      <td>Jazz</td>\n",
       "    </tr>\n",
       "    <tr>\n",
       "      <th>2</th>\n",
       "      <td>3</td>\n",
       "      <td>One - U2</td>\n",
       "      <td>Instrumental</td>\n",
       "    </tr>\n",
       "    <tr>\n",
       "      <th>3</th>\n",
       "      <td>4</td>\n",
       "      <td>Billie Jean - Michael Jackson</td>\n",
       "      <td>Rock</td>\n",
       "    </tr>\n",
       "    <tr>\n",
       "      <th>4</th>\n",
       "      <td>5</td>\n",
       "      <td>Bohemian Rhapsody - Queen</td>\n",
       "      <td>Classical</td>\n",
       "    </tr>\n",
       "  </tbody>\n",
       "</table>\n",
       "</div>"
      ],
      "text/plain": [
       "  SongID                          SongTitle        Genres\n",
       "0      1  Smells Like Teen Spirit - Nirvana     Classical\n",
       "1      2              Imagine - John Lennon          Jazz\n",
       "2      3                           One - U2  Instrumental\n",
       "3      4      Billie Jean - Michael Jackson          Rock\n",
       "4      5          Bohemian Rhapsody - Queen     Classical"
      ]
     },
     "execution_count": 2,
     "metadata": {},
     "output_type": "execute_result"
    }
   ],
   "source": [
    "# This dataset consists of SongID, SongTitle and Song Genres. \n",
    "SongTitles = pd.read_csv(\"D:\\AI Project\\Music_List.csv\")\n",
    "SongTitles['SongID'] = SongTitles['SongID'].astype(str)\n",
    "SongTitles.head()"
   ]
  },
  {
   "cell_type": "code",
   "execution_count": 3,
   "metadata": {},
   "outputs": [
    {
     "data": {
      "text/html": [
       "<div>\n",
       "<style scoped>\n",
       "    .dataframe tbody tr th:only-of-type {\n",
       "        vertical-align: middle;\n",
       "    }\n",
       "\n",
       "    .dataframe tbody tr th {\n",
       "        vertical-align: top;\n",
       "    }\n",
       "\n",
       "    .dataframe thead th {\n",
       "        text-align: right;\n",
       "    }\n",
       "</style>\n",
       "<table border=\"1\" class=\"dataframe\">\n",
       "  <thead>\n",
       "    <tr style=\"text-align: right;\">\n",
       "      <th></th>\n",
       "      <th>UserID</th>\n",
       "      <th>SongID</th>\n",
       "      <th>SongRatings</th>\n",
       "      <th>Timestamp</th>\n",
       "    </tr>\n",
       "  </thead>\n",
       "  <tbody>\n",
       "    <tr>\n",
       "      <th>0</th>\n",
       "      <td>1</td>\n",
       "      <td>1</td>\n",
       "      <td>4</td>\n",
       "      <td>964982703</td>\n",
       "    </tr>\n",
       "    <tr>\n",
       "      <th>1</th>\n",
       "      <td>1</td>\n",
       "      <td>3</td>\n",
       "      <td>4</td>\n",
       "      <td>964981247</td>\n",
       "    </tr>\n",
       "    <tr>\n",
       "      <th>2</th>\n",
       "      <td>1</td>\n",
       "      <td>6</td>\n",
       "      <td>4</td>\n",
       "      <td>964982224</td>\n",
       "    </tr>\n",
       "    <tr>\n",
       "      <th>3</th>\n",
       "      <td>1</td>\n",
       "      <td>4</td>\n",
       "      <td>2</td>\n",
       "      <td>964982703</td>\n",
       "    </tr>\n",
       "    <tr>\n",
       "      <th>4</th>\n",
       "      <td>1</td>\n",
       "      <td>5</td>\n",
       "      <td>3</td>\n",
       "      <td>964981247</td>\n",
       "    </tr>\n",
       "  </tbody>\n",
       "</table>\n",
       "</div>"
      ],
      "text/plain": [
       "   UserID SongID  SongRatings  Timestamp\n",
       "0       1      1            4  964982703\n",
       "1       1      3            4  964981247\n",
       "2       1      6            4  964982224\n",
       "3       1      4            2  964982703\n",
       "4       1      5            3  964981247"
      ]
     },
     "execution_count": 3,
     "metadata": {},
     "output_type": "execute_result"
    }
   ],
   "source": [
    "# This dataset consists of UserID, SongID, SongRatings and Song Timestamp. \n",
    "SongRating = pd.read_csv('D:\\AI Project\\Music_Rating.csv')\n",
    "SongRating['SongID'] = SongRating['SongID'].astype(str)\n",
    "SongRating.head()"
   ]
  },
  {
   "cell_type": "code",
   "execution_count": 4,
   "metadata": {},
   "outputs": [
    {
     "data": {
      "text/html": [
       "<div>\n",
       "<style scoped>\n",
       "    .dataframe tbody tr th:only-of-type {\n",
       "        vertical-align: middle;\n",
       "    }\n",
       "\n",
       "    .dataframe tbody tr th {\n",
       "        vertical-align: top;\n",
       "    }\n",
       "\n",
       "    .dataframe thead th {\n",
       "        text-align: right;\n",
       "    }\n",
       "</style>\n",
       "<table border=\"1\" class=\"dataframe\">\n",
       "  <thead>\n",
       "    <tr style=\"text-align: right;\">\n",
       "      <th></th>\n",
       "      <th>UserID</th>\n",
       "      <th>SongID</th>\n",
       "      <th>SongRatings</th>\n",
       "      <th>Timestamp</th>\n",
       "      <th>SongTitle</th>\n",
       "      <th>Genres</th>\n",
       "    </tr>\n",
       "  </thead>\n",
       "  <tbody>\n",
       "    <tr>\n",
       "      <th>0</th>\n",
       "      <td>1</td>\n",
       "      <td>1</td>\n",
       "      <td>4</td>\n",
       "      <td>964982703</td>\n",
       "      <td>Smells Like Teen Spirit - Nirvana</td>\n",
       "      <td>Classical</td>\n",
       "    </tr>\n",
       "    <tr>\n",
       "      <th>1</th>\n",
       "      <td>2</td>\n",
       "      <td>1</td>\n",
       "      <td>3</td>\n",
       "      <td>964982703</td>\n",
       "      <td>Smells Like Teen Spirit - Nirvana</td>\n",
       "      <td>Classical</td>\n",
       "    </tr>\n",
       "    <tr>\n",
       "      <th>2</th>\n",
       "      <td>1</td>\n",
       "      <td>3</td>\n",
       "      <td>4</td>\n",
       "      <td>964981247</td>\n",
       "      <td>One - U2</td>\n",
       "      <td>Instrumental</td>\n",
       "    </tr>\n",
       "    <tr>\n",
       "      <th>3</th>\n",
       "      <td>2</td>\n",
       "      <td>3</td>\n",
       "      <td>5</td>\n",
       "      <td>964981247</td>\n",
       "      <td>One - U2</td>\n",
       "      <td>Instrumental</td>\n",
       "    </tr>\n",
       "    <tr>\n",
       "      <th>4</th>\n",
       "      <td>1</td>\n",
       "      <td>6</td>\n",
       "      <td>4</td>\n",
       "      <td>964982224</td>\n",
       "      <td>Hey Jude - The Beatles</td>\n",
       "      <td>Hip Hop</td>\n",
       "    </tr>\n",
       "    <tr>\n",
       "      <th>...</th>\n",
       "      <td>...</td>\n",
       "      <td>...</td>\n",
       "      <td>...</td>\n",
       "      <td>...</td>\n",
       "      <td>...</td>\n",
       "      <td>...</td>\n",
       "    </tr>\n",
       "    <tr>\n",
       "      <th>93</th>\n",
       "      <td>8</td>\n",
       "      <td>17</td>\n",
       "      <td>4</td>\n",
       "      <td>964982703</td>\n",
       "      <td>Live Forever - Oasis</td>\n",
       "      <td>Classical</td>\n",
       "    </tr>\n",
       "    <tr>\n",
       "      <th>94</th>\n",
       "      <td>9</td>\n",
       "      <td>17</td>\n",
       "      <td>1</td>\n",
       "      <td>964982224</td>\n",
       "      <td>Live Forever - Oasis</td>\n",
       "      <td>Classical</td>\n",
       "    </tr>\n",
       "    <tr>\n",
       "      <th>95</th>\n",
       "      <td>7</td>\n",
       "      <td>16</td>\n",
       "      <td>5</td>\n",
       "      <td>964981247</td>\n",
       "      <td>The Twist - Chubby Checker</td>\n",
       "      <td>Hip Hop</td>\n",
       "    </tr>\n",
       "    <tr>\n",
       "      <th>96</th>\n",
       "      <td>9</td>\n",
       "      <td>16</td>\n",
       "      <td>2</td>\n",
       "      <td>964982224</td>\n",
       "      <td>The Twist - Chubby Checker</td>\n",
       "      <td>Hip Hop</td>\n",
       "    </tr>\n",
       "    <tr>\n",
       "      <th>97</th>\n",
       "      <td>9</td>\n",
       "      <td>16</td>\n",
       "      <td>0</td>\n",
       "      <td>964981247</td>\n",
       "      <td>The Twist - Chubby Checker</td>\n",
       "      <td>Hip Hop</td>\n",
       "    </tr>\n",
       "  </tbody>\n",
       "</table>\n",
       "<p>98 rows × 6 columns</p>\n",
       "</div>"
      ],
      "text/plain": [
       "    UserID SongID  SongRatings  Timestamp                          SongTitle  \\\n",
       "0        1      1            4  964982703  Smells Like Teen Spirit - Nirvana   \n",
       "1        2      1            3  964982703  Smells Like Teen Spirit - Nirvana   \n",
       "2        1      3            4  964981247                           One - U2   \n",
       "3        2      3            5  964981247                           One - U2   \n",
       "4        1      6            4  964982224             Hey Jude - The Beatles   \n",
       "..     ...    ...          ...        ...                                ...   \n",
       "93       8     17            4  964982703               Live Forever - Oasis   \n",
       "94       9     17            1  964982224               Live Forever - Oasis   \n",
       "95       7     16            5  964981247         The Twist - Chubby Checker   \n",
       "96       9     16            2  964982224         The Twist - Chubby Checker   \n",
       "97       9     16            0  964981247         The Twist - Chubby Checker   \n",
       "\n",
       "          Genres  \n",
       "0      Classical  \n",
       "1      Classical  \n",
       "2   Instrumental  \n",
       "3   Instrumental  \n",
       "4        Hip Hop  \n",
       "..           ...  \n",
       "93     Classical  \n",
       "94     Classical  \n",
       "95       Hip Hop  \n",
       "96       Hip Hop  \n",
       "97       Hip Hop  \n",
       "\n",
       "[98 rows x 6 columns]"
      ]
     },
     "execution_count": 4,
     "metadata": {},
     "output_type": "execute_result"
    }
   ],
   "source": [
    "#Used merge on the base of song id to compair songs ratings.\n",
    "AllSong = pd.merge(SongRating,SongTitles,on='SongID')\n",
    "AllSong"
   ]
  },
  {
   "cell_type": "code",
   "execution_count": 5,
   "metadata": {},
   "outputs": [],
   "source": [
    "# this task is to predict the Song based on rating.\n",
    "# reshape(-1,1) it transforms observations into 2D array (specifies one column as many as rows as necessary).  \n",
    "X = AllSong['SongID'].values.reshape(-1,1)\n",
    "y = AllSong['SongRatings'].values.reshape(-1,1)"
   ]
  },
  {
   "cell_type": "code",
   "execution_count": 6,
   "metadata": {},
   "outputs": [],
   "source": [
    "# In this the dataset is splitted into two, 80% of the data is to the training set and remaining 20% to the test set.\n",
    "#random_state generates a number which decides whether the data should be sent to test or training. \n",
    "X_train, X_test, y_train, y_test = train_test_split(X, y, test_size=0.2, random_state=0)"
   ]
  },
  {
   "cell_type": "code",
   "execution_count": 7,
   "metadata": {},
   "outputs": [
    {
     "data": {
      "text/plain": [
       "LinearRegression()"
      ]
     },
     "execution_count": 7,
     "metadata": {},
     "output_type": "execute_result"
    }
   ],
   "source": [
    "L_regression=LinearRegression()\n",
    "# call fit() along with the training data. fit() is used to fit the data.\n",
    "L_regression.fit(X_train,y_train)"
   ]
  },
  {
   "cell_type": "code",
   "execution_count": 8,
   "metadata": {},
   "outputs": [],
   "source": [
    "# After training the algorithm execute the below expression to make some predictions\n",
    "# To predict the value use L_regression.pedict on the test data.\n",
    "y_pred=L_regression.predict(X_test)"
   ]
  },
  {
   "cell_type": "code",
   "execution_count": 9,
   "metadata": {},
   "outputs": [
    {
     "name": "stdout",
     "output_type": "stream",
     "text": [
      "Mean Absolute Error: 1.779078297501453\n",
      "Mean Squared Error: 5.250543773181904\n",
      "Root Mean Squared Error: 2.291406505441997\n"
     ]
    }
   ],
   "source": [
    "#calculate the mean, mean square, root mean square \n",
    "\n",
    "\n",
    "# y_test(ground truth)and y_pred(model predictions) compare these by using error metric.\n",
    "# mean_absolute_error calculates the average of the absolute value of difference between y_test and y_pred.\n",
    "print('Mean Absolute Error:', metrics.mean_absolute_error(y_test, y_pred))\n",
    "# mean_squared_error reports the data prediction error.\n",
    "print('Mean Squared Error:', metrics.mean_squared_error(y_test, y_pred)) \n",
    "# used to measure the difference between values predicted by model and estimated results.\n",
    "print('Root Mean Squared Error:', np.sqrt(metrics.mean_squared_error(y_test, y_pred)))"
   ]
  },
  {
   "cell_type": "code",
   "execution_count": 10,
   "metadata": {},
   "outputs": [
    {
     "data": {
      "text/plain": [
       "SongTitle\n",
       "God Save The Queen - Sex Pistols                14\n",
       "I Can't Get No Satisfaction - Rolling Stones    12\n",
       "London Calling - The Clash                      12\n",
       "Sweet Child O'Mine - Guns N' Roses               7\n",
       "I Will Always Love You - Whitney Houston         7\n",
       "Name: SongRatings, dtype: int64"
      ]
     },
     "execution_count": 10,
     "metadata": {},
     "output_type": "execute_result"
    }
   ],
   "source": [
    "# Group by ratings on the base of SongTitle with count.\n",
    "AllSong.groupby(\"SongTitle\")['SongRatings'].count().sort_values(ascending=False).head()"
   ]
  },
  {
   "cell_type": "code",
   "execution_count": 11,
   "metadata": {},
   "outputs": [
    {
     "data": {
      "text/html": [
       "<div>\n",
       "<style scoped>\n",
       "    .dataframe tbody tr th:only-of-type {\n",
       "        vertical-align: middle;\n",
       "    }\n",
       "\n",
       "    .dataframe tbody tr th {\n",
       "        vertical-align: top;\n",
       "    }\n",
       "\n",
       "    .dataframe thead th {\n",
       "        text-align: right;\n",
       "    }\n",
       "</style>\n",
       "<table border=\"1\" class=\"dataframe\">\n",
       "  <thead>\n",
       "    <tr style=\"text-align: right;\">\n",
       "      <th></th>\n",
       "      <th>SongRatings</th>\n",
       "    </tr>\n",
       "    <tr>\n",
       "      <th>SongTitle</th>\n",
       "      <th></th>\n",
       "    </tr>\n",
       "  </thead>\n",
       "  <tbody>\n",
       "    <tr>\n",
       "      <th>Be My Baby - The Ronettes</th>\n",
       "      <td>5.000000</td>\n",
       "    </tr>\n",
       "    <tr>\n",
       "      <th>Billie Jean - Michael Jackson</th>\n",
       "      <td>1.333333</td>\n",
       "    </tr>\n",
       "    <tr>\n",
       "      <th>Bohemian Rhapsody - Queen</th>\n",
       "      <td>6.000000</td>\n",
       "    </tr>\n",
       "    <tr>\n",
       "      <th>Born To Run - Bruce Springsteen</th>\n",
       "      <td>9.000000</td>\n",
       "    </tr>\n",
       "    <tr>\n",
       "      <th>Creep - Radiohead</th>\n",
       "      <td>3.000000</td>\n",
       "    </tr>\n",
       "  </tbody>\n",
       "</table>\n",
       "</div>"
      ],
      "text/plain": [
       "                                 SongRatings\n",
       "SongTitle                                   \n",
       "Be My Baby - The Ronettes           5.000000\n",
       "Billie Jean - Michael Jackson       1.333333\n",
       "Bohemian Rhapsody - Queen           6.000000\n",
       "Born To Run - Bruce Springsteen     9.000000\n",
       "Creep - Radiohead                   3.000000"
      ]
     },
     "execution_count": 11,
     "metadata": {},
     "output_type": "execute_result"
    }
   ],
   "source": [
    "# Group by ratings on the base of SongTitle with mean.\n",
    "Ratings = pd.DataFrame(AllSong.groupby(\"SongTitle\")['SongRatings'].mean())\n",
    "Ratings.head()"
   ]
  },
  {
   "cell_type": "code",
   "execution_count": 12,
   "metadata": {},
   "outputs": [
    {
     "data": {
      "text/html": [
       "<div>\n",
       "<style scoped>\n",
       "    .dataframe tbody tr th:only-of-type {\n",
       "        vertical-align: middle;\n",
       "    }\n",
       "\n",
       "    .dataframe tbody tr th {\n",
       "        vertical-align: top;\n",
       "    }\n",
       "\n",
       "    .dataframe thead th {\n",
       "        text-align: right;\n",
       "    }\n",
       "</style>\n",
       "<table border=\"1\" class=\"dataframe\">\n",
       "  <thead>\n",
       "    <tr style=\"text-align: right;\">\n",
       "      <th></th>\n",
       "      <th>SongRatings</th>\n",
       "      <th>RatingCounts</th>\n",
       "    </tr>\n",
       "    <tr>\n",
       "      <th>SongTitle</th>\n",
       "      <th></th>\n",
       "      <th></th>\n",
       "    </tr>\n",
       "  </thead>\n",
       "  <tbody>\n",
       "    <tr>\n",
       "      <th>Be My Baby - The Ronettes</th>\n",
       "      <td>5.000000</td>\n",
       "      <td>1</td>\n",
       "    </tr>\n",
       "    <tr>\n",
       "      <th>Billie Jean - Michael Jackson</th>\n",
       "      <td>1.333333</td>\n",
       "      <td>3</td>\n",
       "    </tr>\n",
       "    <tr>\n",
       "      <th>Bohemian Rhapsody - Queen</th>\n",
       "      <td>6.000000</td>\n",
       "      <td>2</td>\n",
       "    </tr>\n",
       "    <tr>\n",
       "      <th>Born To Run - Bruce Springsteen</th>\n",
       "      <td>9.000000</td>\n",
       "      <td>1</td>\n",
       "    </tr>\n",
       "    <tr>\n",
       "      <th>Creep - Radiohead</th>\n",
       "      <td>3.000000</td>\n",
       "      <td>1</td>\n",
       "    </tr>\n",
       "  </tbody>\n",
       "</table>\n",
       "</div>"
      ],
      "text/plain": [
       "                                 SongRatings  RatingCounts\n",
       "SongTitle                                                 \n",
       "Be My Baby - The Ronettes           5.000000             1\n",
       "Billie Jean - Michael Jackson       1.333333             3\n",
       "Bohemian Rhapsody - Queen           6.000000             2\n",
       "Born To Run - Bruce Springsteen     9.000000             1\n",
       "Creep - Radiohead                   3.000000             1"
      ]
     },
     "execution_count": 12,
     "metadata": {},
     "output_type": "execute_result"
    }
   ],
   "source": [
    "Ratings[\"RatingCounts\"]= pd.DataFrame(AllSong.groupby(\"SongTitle\")['SongRatings'].count())\n",
    "Ratings.head()"
   ]
  },
  {
   "cell_type": "code",
   "execution_count": 13,
   "metadata": {},
   "outputs": [
    {
     "data": {
      "text/plain": [
       "<matplotlib.axes._subplots.AxesSubplot at 0x1edb62415b0>"
      ]
     },
     "execution_count": 13,
     "metadata": {},
     "output_type": "execute_result"
    },
    {
     "data": {
      "image/png": "[encoded data removed]",
      "text/plain": [
       "<Figure size 432x288 with 1 Axes>"
      ]
     },
     "metadata": {
      "needs_background": "light"
     },
     "output_type": "display_data"
    }
   ],
   "source": [
    "# Plotting Rating count graph \n",
    "sns.distplot(Ratings[\"RatingCounts\"])"
   ]
  },
  {
   "cell_type": "code",
   "execution_count": 14,
   "metadata": {},
   "outputs": [
    {
     "data": {
      "text/plain": [
       "<matplotlib.axes._subplots.AxesSubplot at 0x1edb62f7700>"
      ]
     },
     "execution_count": 14,
     "metadata": {},
     "output_type": "execute_result"
    },
    {
     "data": {
      "image/png": "[encoded data removed]",
      "text/plain": [
       "<Figure size 432x288 with 1 Axes>"
      ]
     },
     "metadata": {
      "needs_background": "light"
     },
     "output_type": "display_data"
    }
   ],
   "source": [
    "# plt.figure(figsize=(20,10)) on the base of songs rating \n",
    "sns.distplot(Ratings[\"SongRatings\"],bins=50)"
   ]
  },
  {
   "cell_type": "code",
   "execution_count": 15,
   "metadata": {},
   "outputs": [
    {
     "data": {
      "text/plain": [
       "<matplotlib.axes._subplots.AxesSubplot at 0x1edb6430a00>"
      ]
     },
     "execution_count": 15,
     "metadata": {},
     "output_type": "execute_result"
    },
    {
     "data": {
      "image/png": "[encoded data removed]",
      "text/plain": [
       "<Figure size 432x288 with 1 Axes>"
      ]
     },
     "metadata": {
      "needs_background": "light"
     },
     "output_type": "display_data"
    }
   ],
   "source": [
    "sns.distplot( (Ratings['SongRatings']*Ratings['RatingCounts'] ) )"
   ]
  },
  {
   "cell_type": "code",
   "execution_count": 16,
   "metadata": {},
   "outputs": [
    {
     "data": {
      "text/plain": [
       "<seaborn.axisgrid.JointGrid at 0x1edb63f5550>"
      ]
     },
     "execution_count": 16,
     "metadata": {},
     "output_type": "execute_result"
    },
    {
     "data": {
      "text/plain": [
       "<Figure size 720x504 with 0 Axes>"
      ]
     },
     "metadata": {},
     "output_type": "display_data"
    },
    {
     "data": {
      "image/png": "[encoded data removed]",
      "text/plain": [
       "<Figure size 432x432 with 3 Axes>"
      ]
     },
     "metadata": {
      "needs_background": "light"
     },
     "output_type": "display_data"
    }
   ],
   "source": [
    "# Below graph shows rating SongRatings vs RatingCounts for analysis\n",
    "plt.figure(figsize=(10,7))\n",
    "sns.jointplot(x='SongRatings',y=\"RatingCounts\",data=Ratings,alpha=.5)"
   ]
  },
  {
   "cell_type": "code",
   "execution_count": 17,
   "metadata": {},
   "outputs": [
    {
     "data": {
      "text/html": [
       "<div>\n",
       "<style scoped>\n",
       "    .dataframe tbody tr th:only-of-type {\n",
       "        vertical-align: middle;\n",
       "    }\n",
       "\n",
       "    .dataframe tbody tr th {\n",
       "        vertical-align: top;\n",
       "    }\n",
       "\n",
       "    .dataframe thead th {\n",
       "        text-align: right;\n",
       "    }\n",
       "</style>\n",
       "<table border=\"1\" class=\"dataframe\">\n",
       "  <thead>\n",
       "    <tr style=\"text-align: right;\">\n",
       "      <th></th>\n",
       "      <th>UserID</th>\n",
       "      <th>SongID</th>\n",
       "      <th>SongRatings</th>\n",
       "      <th>Timestamp</th>\n",
       "      <th>SongTitle</th>\n",
       "      <th>Genres</th>\n",
       "    </tr>\n",
       "  </thead>\n",
       "  <tbody>\n",
       "    <tr>\n",
       "      <th>0</th>\n",
       "      <td>1</td>\n",
       "      <td>1</td>\n",
       "      <td>4</td>\n",
       "      <td>964982703</td>\n",
       "      <td>Smells Like Teen Spirit - Nirvana</td>\n",
       "      <td>Classical</td>\n",
       "    </tr>\n",
       "    <tr>\n",
       "      <th>1</th>\n",
       "      <td>2</td>\n",
       "      <td>1</td>\n",
       "      <td>3</td>\n",
       "      <td>964982703</td>\n",
       "      <td>Smells Like Teen Spirit - Nirvana</td>\n",
       "      <td>Classical</td>\n",
       "    </tr>\n",
       "    <tr>\n",
       "      <th>2</th>\n",
       "      <td>1</td>\n",
       "      <td>3</td>\n",
       "      <td>4</td>\n",
       "      <td>964981247</td>\n",
       "      <td>One - U2</td>\n",
       "      <td>Instrumental</td>\n",
       "    </tr>\n",
       "    <tr>\n",
       "      <th>3</th>\n",
       "      <td>2</td>\n",
       "      <td>3</td>\n",
       "      <td>5</td>\n",
       "      <td>964981247</td>\n",
       "      <td>One - U2</td>\n",
       "      <td>Instrumental</td>\n",
       "    </tr>\n",
       "    <tr>\n",
       "      <th>4</th>\n",
       "      <td>1</td>\n",
       "      <td>6</td>\n",
       "      <td>4</td>\n",
       "      <td>964982224</td>\n",
       "      <td>Hey Jude - The Beatles</td>\n",
       "      <td>Hip Hop</td>\n",
       "    </tr>\n",
       "  </tbody>\n",
       "</table>\n",
       "</div>"
      ],
      "text/plain": [
       "   UserID SongID  SongRatings  Timestamp                          SongTitle  \\\n",
       "0       1      1            4  964982703  Smells Like Teen Spirit - Nirvana   \n",
       "1       2      1            3  964982703  Smells Like Teen Spirit - Nirvana   \n",
       "2       1      3            4  964981247                           One - U2   \n",
       "3       2      3            5  964981247                           One - U2   \n",
       "4       1      6            4  964982224             Hey Jude - The Beatles   \n",
       "\n",
       "         Genres  \n",
       "0     Classical  \n",
       "1     Classical  \n",
       "2  Instrumental  \n",
       "3  Instrumental  \n",
       "4       Hip Hop  "
      ]
     },
     "execution_count": 17,
     "metadata": {},
     "output_type": "execute_result"
    }
   ],
   "source": [
    "AllSong.head()"
   ]
  },
  {
   "cell_type": "code",
   "execution_count": 18,
   "metadata": {},
   "outputs": [
    {
     "data": {
      "text/html": [
       "<div>\n",
       "<style scoped>\n",
       "    .dataframe tbody tr th:only-of-type {\n",
       "        vertical-align: middle;\n",
       "    }\n",
       "\n",
       "    .dataframe tbody tr th {\n",
       "        vertical-align: top;\n",
       "    }\n",
       "\n",
       "    .dataframe thead th {\n",
       "        text-align: right;\n",
       "    }\n",
       "</style>\n",
       "<table border=\"1\" class=\"dataframe\">\n",
       "  <thead>\n",
       "    <tr style=\"text-align: right;\">\n",
       "      <th>SongTitle</th>\n",
       "      <th>Be My Baby - The Ronettes</th>\n",
       "      <th>Billie Jean - Michael Jackson</th>\n",
       "      <th>Bohemian Rhapsody - Queen</th>\n",
       "      <th>Born To Run - Bruce Springsteen</th>\n",
       "      <th>Creep - Radiohead</th>\n",
       "      <th>God Save The Queen - Sex Pistols</th>\n",
       "      <th>Heartbreak Hotel - Elvis Presley</th>\n",
       "      <th>Hey Jude - The Beatles</th>\n",
       "      <th>Hotel California - The Eagles</th>\n",
       "      <th>I Can't Get No Satisfaction - Rolling Stones</th>\n",
       "      <th>...</th>\n",
       "      <th>Live Forever - Oasis</th>\n",
       "      <th>London Calling - The Clash</th>\n",
       "      <th>One - U2</th>\n",
       "      <th>Over The Rainbow - Judy Garland</th>\n",
       "      <th>Smells Like Teen Spirit - Nirvana</th>\n",
       "      <th>Stairway To Heaven - Led Zeppelin</th>\n",
       "      <th>Sweet Child O'Mine - Guns N' Roses</th>\n",
       "      <th>The Twist - Chubby Checker</th>\n",
       "      <th>Waterloo Sunset - The Kinks</th>\n",
       "      <th>What's Goin' On - Marvin Gaye</th>\n",
       "    </tr>\n",
       "    <tr>\n",
       "      <th>UserID</th>\n",
       "      <th></th>\n",
       "      <th></th>\n",
       "      <th></th>\n",
       "      <th></th>\n",
       "      <th></th>\n",
       "      <th></th>\n",
       "      <th></th>\n",
       "      <th></th>\n",
       "      <th></th>\n",
       "      <th></th>\n",
       "      <th></th>\n",
       "      <th></th>\n",
       "      <th></th>\n",
       "      <th></th>\n",
       "      <th></th>\n",
       "      <th></th>\n",
       "      <th></th>\n",
       "      <th></th>\n",
       "      <th></th>\n",
       "      <th></th>\n",
       "      <th></th>\n",
       "    </tr>\n",
       "  </thead>\n",
       "  <tbody>\n",
       "    <tr>\n",
       "      <th>1</th>\n",
       "      <td>NaN</td>\n",
       "      <td>2.0</td>\n",
       "      <td>3.0</td>\n",
       "      <td>NaN</td>\n",
       "      <td>NaN</td>\n",
       "      <td>NaN</td>\n",
       "      <td>NaN</td>\n",
       "      <td>4.0</td>\n",
       "      <td>NaN</td>\n",
       "      <td>NaN</td>\n",
       "      <td>...</td>\n",
       "      <td>NaN</td>\n",
       "      <td>NaN</td>\n",
       "      <td>4.0</td>\n",
       "      <td>NaN</td>\n",
       "      <td>4.0</td>\n",
       "      <td>NaN</td>\n",
       "      <td>NaN</td>\n",
       "      <td>NaN</td>\n",
       "      <td>NaN</td>\n",
       "      <td>NaN</td>\n",
       "    </tr>\n",
       "    <tr>\n",
       "      <th>2</th>\n",
       "      <td>NaN</td>\n",
       "      <td>0.0</td>\n",
       "      <td>NaN</td>\n",
       "      <td>NaN</td>\n",
       "      <td>NaN</td>\n",
       "      <td>NaN</td>\n",
       "      <td>NaN</td>\n",
       "      <td>1.0</td>\n",
       "      <td>NaN</td>\n",
       "      <td>NaN</td>\n",
       "      <td>...</td>\n",
       "      <td>NaN</td>\n",
       "      <td>NaN</td>\n",
       "      <td>5.0</td>\n",
       "      <td>NaN</td>\n",
       "      <td>3.0</td>\n",
       "      <td>NaN</td>\n",
       "      <td>NaN</td>\n",
       "      <td>NaN</td>\n",
       "      <td>NaN</td>\n",
       "      <td>NaN</td>\n",
       "    </tr>\n",
       "    <tr>\n",
       "      <th>3</th>\n",
       "      <td>NaN</td>\n",
       "      <td>2.0</td>\n",
       "      <td>9.0</td>\n",
       "      <td>NaN</td>\n",
       "      <td>NaN</td>\n",
       "      <td>NaN</td>\n",
       "      <td>NaN</td>\n",
       "      <td>0.0</td>\n",
       "      <td>NaN</td>\n",
       "      <td>NaN</td>\n",
       "      <td>...</td>\n",
       "      <td>NaN</td>\n",
       "      <td>NaN</td>\n",
       "      <td>NaN</td>\n",
       "      <td>NaN</td>\n",
       "      <td>NaN</td>\n",
       "      <td>NaN</td>\n",
       "      <td>NaN</td>\n",
       "      <td>NaN</td>\n",
       "      <td>NaN</td>\n",
       "      <td>NaN</td>\n",
       "    </tr>\n",
       "    <tr>\n",
       "      <th>5</th>\n",
       "      <td>NaN</td>\n",
       "      <td>NaN</td>\n",
       "      <td>NaN</td>\n",
       "      <td>NaN</td>\n",
       "      <td>3.0</td>\n",
       "      <td>4.5</td>\n",
       "      <td>NaN</td>\n",
       "      <td>NaN</td>\n",
       "      <td>0.0</td>\n",
       "      <td>3.000000</td>\n",
       "      <td>...</td>\n",
       "      <td>NaN</td>\n",
       "      <td>1.5</td>\n",
       "      <td>NaN</td>\n",
       "      <td>5.0</td>\n",
       "      <td>NaN</td>\n",
       "      <td>4.0</td>\n",
       "      <td>5.0</td>\n",
       "      <td>NaN</td>\n",
       "      <td>2.0</td>\n",
       "      <td>NaN</td>\n",
       "    </tr>\n",
       "    <tr>\n",
       "      <th>6</th>\n",
       "      <td>5.0</td>\n",
       "      <td>NaN</td>\n",
       "      <td>NaN</td>\n",
       "      <td>9.0</td>\n",
       "      <td>NaN</td>\n",
       "      <td>2.0</td>\n",
       "      <td>4.0</td>\n",
       "      <td>NaN</td>\n",
       "      <td>0.0</td>\n",
       "      <td>2.333333</td>\n",
       "      <td>...</td>\n",
       "      <td>NaN</td>\n",
       "      <td>4.6</td>\n",
       "      <td>NaN</td>\n",
       "      <td>NaN</td>\n",
       "      <td>NaN</td>\n",
       "      <td>NaN</td>\n",
       "      <td>5.0</td>\n",
       "      <td>NaN</td>\n",
       "      <td>4.0</td>\n",
       "      <td>0.0</td>\n",
       "    </tr>\n",
       "  </tbody>\n",
       "</table>\n",
       "<p>5 rows × 23 columns</p>\n",
       "</div>"
      ],
      "text/plain": [
       "SongTitle  Be My Baby - The Ronettes  Billie Jean - Michael Jackson  \\\n",
       "UserID                                                                \n",
       "1                                NaN                            2.0   \n",
       "2                                NaN                            0.0   \n",
       "3                                NaN                            2.0   \n",
       "5                                NaN                            NaN   \n",
       "6                                5.0                            NaN   \n",
       "\n",
       "SongTitle  Bohemian Rhapsody - Queen  Born To Run - Bruce Springsteen  \\\n",
       "UserID                                                                  \n",
       "1                                3.0                              NaN   \n",
       "2                                NaN                              NaN   \n",
       "3                                9.0                              NaN   \n",
       "5                                NaN                              NaN   \n",
       "6                                NaN                              9.0   \n",
       "\n",
       "SongTitle  Creep - Radiohead  God Save The Queen - Sex Pistols  \\\n",
       "UserID                                                           \n",
       "1                        NaN                               NaN   \n",
       "2                        NaN                               NaN   \n",
       "3                        NaN                               NaN   \n",
       "5                        3.0                               4.5   \n",
       "6                        NaN                               2.0   \n",
       "\n",
       "SongTitle  Heartbreak Hotel - Elvis Presley  Hey Jude - The Beatles  \\\n",
       "UserID                                                                \n",
       "1                                       NaN                     4.0   \n",
       "2                                       NaN                     1.0   \n",
       "3                                       NaN                     0.0   \n",
       "5                                       NaN                     NaN   \n",
       "6                                       4.0                     NaN   \n",
       "\n",
       "SongTitle  Hotel California - The Eagles  \\\n",
       "UserID                                     \n",
       "1                                    NaN   \n",
       "2                                    NaN   \n",
       "3                                    NaN   \n",
       "5                                    0.0   \n",
       "6                                    0.0   \n",
       "\n",
       "SongTitle  I Can't Get No Satisfaction - Rolling Stones  ...  \\\n",
       "UserID                                                   ...   \n",
       "1                                                   NaN  ...   \n",
       "2                                                   NaN  ...   \n",
       "3                                                   NaN  ...   \n",
       "5                                              3.000000  ...   \n",
       "6                                              2.333333  ...   \n",
       "\n",
       "SongTitle  Live Forever - Oasis  London Calling - The Clash  One - U2  \\\n",
       "UserID                                                                  \n",
       "1                           NaN                         NaN       4.0   \n",
       "2                           NaN                         NaN       5.0   \n",
       "3                           NaN                         NaN       NaN   \n",
       "5                           NaN                         1.5       NaN   \n",
       "6                           NaN                         4.6       NaN   \n",
       "\n",
       "SongTitle  Over The Rainbow - Judy Garland  Smells Like Teen Spirit - Nirvana  \\\n",
       "UserID                                                                          \n",
       "1                                      NaN                                4.0   \n",
       "2                                      NaN                                3.0   \n",
       "3                                      NaN                                NaN   \n",
       "5                                      5.0                                NaN   \n",
       "6                                      NaN                                NaN   \n",
       "\n",
       "SongTitle  Stairway To Heaven - Led Zeppelin  \\\n",
       "UserID                                         \n",
       "1                                        NaN   \n",
       "2                                        NaN   \n",
       "3                                        NaN   \n",
       "5                                        4.0   \n",
       "6                                        NaN   \n",
       "\n",
       "SongTitle  Sweet Child O'Mine - Guns N' Roses  The Twist - Chubby Checker  \\\n",
       "UserID                                                                      \n",
       "1                                         NaN                         NaN   \n",
       "2                                         NaN                         NaN   \n",
       "3                                         NaN                         NaN   \n",
       "5                                         5.0                         NaN   \n",
       "6                                         5.0                         NaN   \n",
       "\n",
       "SongTitle  Waterloo Sunset - The Kinks  What's Goin' On - Marvin Gaye  \n",
       "UserID                                                                 \n",
       "1                                  NaN                            NaN  \n",
       "2                                  NaN                            NaN  \n",
       "3                                  NaN                            NaN  \n",
       "5                                  2.0                            NaN  \n",
       "6                                  4.0                            0.0  \n",
       "\n",
       "[5 rows x 23 columns]"
      ]
     },
     "execution_count": 18,
     "metadata": {},
     "output_type": "execute_result"
    }
   ],
   "source": [
    "# Below Song Matrix represent all songs rating given by the user \n",
    "SongMat = AllSong.pivot_table(values='SongRatings',index='UserID',columns = 'SongTitle')\n",
    "SongMat.head()"
   ]
  },
  {
   "cell_type": "code",
   "execution_count": 19,
   "metadata": {},
   "outputs": [
    {
     "data": {
      "text/html": [
       "<div>\n",
       "<style scoped>\n",
       "    .dataframe tbody tr th:only-of-type {\n",
       "        vertical-align: middle;\n",
       "    }\n",
       "\n",
       "    .dataframe tbody tr th {\n",
       "        vertical-align: top;\n",
       "    }\n",
       "\n",
       "    .dataframe thead th {\n",
       "        text-align: right;\n",
       "    }\n",
       "</style>\n",
       "<table border=\"1\" class=\"dataframe\">\n",
       "  <thead>\n",
       "    <tr style=\"text-align: right;\">\n",
       "      <th></th>\n",
       "      <th>SongRatings</th>\n",
       "      <th>RatingCounts</th>\n",
       "    </tr>\n",
       "    <tr>\n",
       "      <th>SongTitle</th>\n",
       "      <th></th>\n",
       "      <th></th>\n",
       "    </tr>\n",
       "  </thead>\n",
       "  <tbody>\n",
       "    <tr>\n",
       "      <th>God Save The Queen - Sex Pistols</th>\n",
       "      <td>3.214286</td>\n",
       "      <td>14</td>\n",
       "    </tr>\n",
       "    <tr>\n",
       "      <th>I Can't Get No Satisfaction - Rolling Stones</th>\n",
       "      <td>3.000000</td>\n",
       "      <td>12</td>\n",
       "    </tr>\n",
       "    <tr>\n",
       "      <th>London Calling - The Clash</th>\n",
       "      <td>3.333333</td>\n",
       "      <td>12</td>\n",
       "    </tr>\n",
       "    <tr>\n",
       "      <th>Waterloo Sunset - The Kinks</th>\n",
       "      <td>3.142857</td>\n",
       "      <td>7</td>\n",
       "    </tr>\n",
       "    <tr>\n",
       "      <th>Sweet Child O'Mine - Guns N' Roses</th>\n",
       "      <td>3.857143</td>\n",
       "      <td>7</td>\n",
       "    </tr>\n",
       "  </tbody>\n",
       "</table>\n",
       "</div>"
      ],
      "text/plain": [
       "                                              SongRatings  RatingCounts\n",
       "SongTitle                                                              \n",
       "God Save The Queen - Sex Pistols                 3.214286            14\n",
       "I Can't Get No Satisfaction - Rolling Stones     3.000000            12\n",
       "London Calling - The Clash                       3.333333            12\n",
       "Waterloo Sunset - The Kinks                      3.142857             7\n",
       "Sweet Child O'Mine - Guns N' Roses               3.857143             7"
      ]
     },
     "execution_count": 19,
     "metadata": {},
     "output_type": "execute_result"
    }
   ],
   "source": [
    "# To find to Rating song \n",
    "Ratings.sort_values(\"RatingCounts\",ascending=False).head()"
   ]
  },
  {
   "cell_type": "code",
   "execution_count": 20,
   "metadata": {},
   "outputs": [
    {
     "data": {
      "text/plain": [
       "0.0    1\n",
       "4.0    1\n",
       "2.0    1\n",
       "Name: Waterloo Sunset - The Kinks, dtype: int64"
      ]
     },
     "execution_count": 20,
     "metadata": {},
     "output_type": "execute_result"
    }
   ],
   "source": [
    "# Consider if user selected a song 'Waterloo Sunset - The Kinks' on that base we are a recommendation of other similar songs\n",
    "UserChoice = SongMat['Waterloo Sunset - The Kinks']\n",
    "UserChoice.value_counts()"
   ]
  },
  {
   "cell_type": "code",
   "execution_count": 21,
   "metadata": {},
   "outputs": [
    {
     "name": "stderr",
     "output_type": "stream",
     "text": [
      "C:\\Users\\kadam\\anaconda3\\lib\\site-packages\\numpy\\lib\\function_base.py:2526: RuntimeWarning: Degrees of freedom <= 0 for slice\n",
      "  c = cov(x, y, rowvar)\n",
      "C:\\Users\\kadam\\anaconda3\\lib\\site-packages\\numpy\\lib\\function_base.py:2455: RuntimeWarning: divide by zero encountered in true_divide\n",
      "  c *= np.true_divide(1, fact)\n"
     ]
    },
    {
     "data": {
      "text/plain": [
       "SongTitle\n",
       "Be My Baby - The Ronettes         NaN\n",
       "Billie Jean - Michael Jackson     NaN\n",
       "Bohemian Rhapsody - Queen         NaN\n",
       "Born To Run - Bruce Springsteen   NaN\n",
       "Creep - Radiohead                 NaN\n",
       "dtype: float64"
      ]
     },
     "execution_count": 21,
     "metadata": {},
     "output_type": "execute_result"
    }
   ],
   "source": [
    "SimilarUserChoice = SongMat.corrwith(UserChoice)\n",
    "SimilarUserChoice.head()"
   ]
  },
  {
   "cell_type": "code",
   "execution_count": 22,
   "metadata": {},
   "outputs": [],
   "source": [
    "# Finding Correlation of the song \n",
    "corrUserChoice = pd.DataFrame(SimilarUserChoice,columns=['Correlation'])"
   ]
  },
  {
   "cell_type": "code",
   "execution_count": 23,
   "metadata": {},
   "outputs": [],
   "source": [
    "corrUserChoice.dropna(inplace=True)"
   ]
  },
  {
   "cell_type": "code",
   "execution_count": 24,
   "metadata": {},
   "outputs": [
    {
     "data": {
      "text/html": [
       "<div>\n",
       "<style scoped>\n",
       "    .dataframe tbody tr th:only-of-type {\n",
       "        vertical-align: middle;\n",
       "    }\n",
       "\n",
       "    .dataframe tbody tr th {\n",
       "        vertical-align: top;\n",
       "    }\n",
       "\n",
       "    .dataframe thead th {\n",
       "        text-align: right;\n",
       "    }\n",
       "</style>\n",
       "<table border=\"1\" class=\"dataframe\">\n",
       "  <thead>\n",
       "    <tr style=\"text-align: right;\">\n",
       "      <th></th>\n",
       "      <th>Correlation</th>\n",
       "    </tr>\n",
       "    <tr>\n",
       "      <th>SongTitle</th>\n",
       "      <th></th>\n",
       "    </tr>\n",
       "  </thead>\n",
       "  <tbody>\n",
       "    <tr>\n",
       "      <th>Over The Rainbow - Judy Garland</th>\n",
       "      <td>1.000000</td>\n",
       "    </tr>\n",
       "    <tr>\n",
       "      <th>Waterloo Sunset - The Kinks</th>\n",
       "      <td>1.000000</td>\n",
       "    </tr>\n",
       "    <tr>\n",
       "      <th>Sweet Child O'Mine - Guns N' Roses</th>\n",
       "      <td>0.866025</td>\n",
       "    </tr>\n",
       "    <tr>\n",
       "      <th>London Calling - The Clash</th>\n",
       "      <td>0.182462</td>\n",
       "    </tr>\n",
       "    <tr>\n",
       "      <th>God Save The Queen - Sex Pistols</th>\n",
       "      <td>-0.654654</td>\n",
       "    </tr>\n",
       "  </tbody>\n",
       "</table>\n",
       "</div>"
      ],
      "text/plain": [
       "                                    Correlation\n",
       "SongTitle                                      \n",
       "Over The Rainbow - Judy Garland        1.000000\n",
       "Waterloo Sunset - The Kinks            1.000000\n",
       "Sweet Child O'Mine - Guns N' Roses     0.866025\n",
       "London Calling - The Clash             0.182462\n",
       "God Save The Queen - Sex Pistols      -0.654654"
      ]
     },
     "execution_count": 24,
     "metadata": {},
     "output_type": "execute_result"
    }
   ],
   "source": [
    "# Top Songs on the based on the Correlation\n",
    "corrUserChoice.sort_values('Correlation',ascending=False).head()"
   ]
  },
  {
   "cell_type": "code",
   "execution_count": 25,
   "metadata": {},
   "outputs": [
    {
     "data": {
      "text/html": [
       "<div>\n",
       "<style scoped>\n",
       "    .dataframe tbody tr th:only-of-type {\n",
       "        vertical-align: middle;\n",
       "    }\n",
       "\n",
       "    .dataframe tbody tr th {\n",
       "        vertical-align: top;\n",
       "    }\n",
       "\n",
       "    .dataframe thead th {\n",
       "        text-align: right;\n",
       "    }\n",
       "</style>\n",
       "<table border=\"1\" class=\"dataframe\">\n",
       "  <thead>\n",
       "    <tr style=\"text-align: right;\">\n",
       "      <th></th>\n",
       "      <th>Correlation</th>\n",
       "      <th>RatingCounts</th>\n",
       "    </tr>\n",
       "    <tr>\n",
       "      <th>SongTitle</th>\n",
       "      <th></th>\n",
       "      <th></th>\n",
       "    </tr>\n",
       "  </thead>\n",
       "  <tbody>\n",
       "    <tr>\n",
       "      <th>God Save The Queen - Sex Pistols</th>\n",
       "      <td>-0.654654</td>\n",
       "      <td>14</td>\n",
       "    </tr>\n",
       "    <tr>\n",
       "      <th>Hotel California - The Eagles</th>\n",
       "      <td>-0.866025</td>\n",
       "      <td>3</td>\n",
       "    </tr>\n",
       "    <tr>\n",
       "      <th>I Can't Get No Satisfaction - Rolling Stones</th>\n",
       "      <td>-0.993399</td>\n",
       "      <td>12</td>\n",
       "    </tr>\n",
       "    <tr>\n",
       "      <th>Like A Rolling Stone - Bob Dylan</th>\n",
       "      <td>-1.000000</td>\n",
       "      <td>6</td>\n",
       "    </tr>\n",
       "    <tr>\n",
       "      <th>London Calling - The Clash</th>\n",
       "      <td>0.182462</td>\n",
       "      <td>12</td>\n",
       "    </tr>\n",
       "  </tbody>\n",
       "</table>\n",
       "</div>"
      ],
      "text/plain": [
       "                                              Correlation  RatingCounts\n",
       "SongTitle                                                              \n",
       "God Save The Queen - Sex Pistols                -0.654654            14\n",
       "Hotel California - The Eagles                   -0.866025             3\n",
       "I Can't Get No Satisfaction - Rolling Stones    -0.993399            12\n",
       "Like A Rolling Stone - Bob Dylan                -1.000000             6\n",
       "London Calling - The Clash                       0.182462            12"
      ]
     },
     "execution_count": 25,
     "metadata": {},
     "output_type": "execute_result"
    }
   ],
   "source": [
    "corrUserChoice= corrUserChoice.join(Ratings[\"RatingCounts\"])\n",
    "corrUserChoice.head()"
   ]
  },
  {
   "cell_type": "code",
   "execution_count": 26,
   "metadata": {},
   "outputs": [
    {
     "data": {
      "text/html": [
       "<div>\n",
       "<style scoped>\n",
       "    .dataframe tbody tr th:only-of-type {\n",
       "        vertical-align: middle;\n",
       "    }\n",
       "\n",
       "    .dataframe tbody tr th {\n",
       "        vertical-align: top;\n",
       "    }\n",
       "\n",
       "    .dataframe thead th {\n",
       "        text-align: right;\n",
       "    }\n",
       "</style>\n",
       "<table border=\"1\" class=\"dataframe\">\n",
       "  <thead>\n",
       "    <tr style=\"text-align: right;\">\n",
       "      <th></th>\n",
       "      <th>Correlation</th>\n",
       "      <th>RatingCounts</th>\n",
       "    </tr>\n",
       "    <tr>\n",
       "      <th>SongTitle</th>\n",
       "      <th></th>\n",
       "      <th></th>\n",
       "    </tr>\n",
       "  </thead>\n",
       "  <tbody>\n",
       "    <tr>\n",
       "      <th>London Calling - The Clash</th>\n",
       "      <td>0.182462</td>\n",
       "      <td>12</td>\n",
       "    </tr>\n",
       "    <tr>\n",
       "      <th>God Save The Queen - Sex Pistols</th>\n",
       "      <td>-0.654654</td>\n",
       "      <td>14</td>\n",
       "    </tr>\n",
       "    <tr>\n",
       "      <th>I Can't Get No Satisfaction - Rolling Stones</th>\n",
       "      <td>-0.993399</td>\n",
       "      <td>12</td>\n",
       "    </tr>\n",
       "  </tbody>\n",
       "</table>\n",
       "</div>"
      ],
      "text/plain": [
       "                                              Correlation  RatingCounts\n",
       "SongTitle                                                              \n",
       "London Calling - The Clash                       0.182462            12\n",
       "God Save The Queen - Sex Pistols                -0.654654            14\n",
       "I Can't Get No Satisfaction - Rolling Stones    -0.993399            12"
      ]
     },
     "execution_count": 26,
     "metadata": {},
     "output_type": "execute_result"
    }
   ],
   "source": [
    "# More than 10 Rating Counts song listed below \n",
    "( corrUserChoice[corrUserChoice['RatingCounts']>10] ).sort_values('Correlation',ascending=False).head()"
   ]
  },
  {
   "cell_type": "code",
   "execution_count": 27,
   "metadata": {},
   "outputs": [
    {
     "data": {
      "text/html": [
       "<div>\n",
       "<style scoped>\n",
       "    .dataframe tbody tr th:only-of-type {\n",
       "        vertical-align: middle;\n",
       "    }\n",
       "\n",
       "    .dataframe tbody tr th {\n",
       "        vertical-align: top;\n",
       "    }\n",
       "\n",
       "    .dataframe thead th {\n",
       "        text-align: right;\n",
       "    }\n",
       "</style>\n",
       "<table border=\"1\" class=\"dataframe\">\n",
       "  <thead>\n",
       "    <tr style=\"text-align: right;\">\n",
       "      <th></th>\n",
       "      <th>Correlation</th>\n",
       "    </tr>\n",
       "    <tr>\n",
       "      <th>SongTitle</th>\n",
       "      <th></th>\n",
       "    </tr>\n",
       "  </thead>\n",
       "  <tbody>\n",
       "    <tr>\n",
       "      <th>God Save The Queen - Sex Pistols</th>\n",
       "      <td>-0.654654</td>\n",
       "    </tr>\n",
       "    <tr>\n",
       "      <th>Hotel California - The Eagles</th>\n",
       "      <td>-0.866025</td>\n",
       "    </tr>\n",
       "    <tr>\n",
       "      <th>I Can't Get No Satisfaction - Rolling Stones</th>\n",
       "      <td>-0.993399</td>\n",
       "    </tr>\n",
       "    <tr>\n",
       "      <th>Like A Rolling Stone - Bob Dylan</th>\n",
       "      <td>-1.000000</td>\n",
       "    </tr>\n",
       "    <tr>\n",
       "      <th>London Calling - The Clash</th>\n",
       "      <td>0.182462</td>\n",
       "    </tr>\n",
       "  </tbody>\n",
       "</table>\n",
       "</div>"
      ],
      "text/plain": [
       "                                              Correlation\n",
       "SongTitle                                                \n",
       "God Save The Queen - Sex Pistols                -0.654654\n",
       "Hotel California - The Eagles                   -0.866025\n",
       "I Can't Get No Satisfaction - Rolling Stones    -0.993399\n",
       "Like A Rolling Stone - Bob Dylan                -1.000000\n",
       "London Calling - The Clash                       0.182462"
      ]
     },
     "execution_count": 27,
     "metadata": {},
     "output_type": "execute_result"
    }
   ],
   "source": [
    "# Below listed are similar to user choice \n",
    "corrSimilarUserChoice= pd.DataFrame(SimilarUserChoice,columns=[\"Correlation\"])\n",
    "corrSimilarUserChoice.dropna(inplace=True)\n",
    "corrSimilarUserChoice.head()"
   ]
  },
  {
   "cell_type": "code",
   "execution_count": 28,
   "metadata": {},
   "outputs": [
    {
     "data": {
      "text/html": [
       "<div>\n",
       "<style scoped>\n",
       "    .dataframe tbody tr th:only-of-type {\n",
       "        vertical-align: middle;\n",
       "    }\n",
       "\n",
       "    .dataframe tbody tr th {\n",
       "        vertical-align: top;\n",
       "    }\n",
       "\n",
       "    .dataframe thead th {\n",
       "        text-align: right;\n",
       "    }\n",
       "</style>\n",
       "<table border=\"1\" class=\"dataframe\">\n",
       "  <thead>\n",
       "    <tr style=\"text-align: right;\">\n",
       "      <th></th>\n",
       "      <th>Correlation</th>\n",
       "    </tr>\n",
       "    <tr>\n",
       "      <th>SongTitle</th>\n",
       "      <th></th>\n",
       "    </tr>\n",
       "  </thead>\n",
       "  <tbody>\n",
       "    <tr>\n",
       "      <th>Over The Rainbow - Judy Garland</th>\n",
       "      <td>1.000000</td>\n",
       "    </tr>\n",
       "    <tr>\n",
       "      <th>Waterloo Sunset - The Kinks</th>\n",
       "      <td>1.000000</td>\n",
       "    </tr>\n",
       "    <tr>\n",
       "      <th>Sweet Child O'Mine - Guns N' Roses</th>\n",
       "      <td>0.866025</td>\n",
       "    </tr>\n",
       "    <tr>\n",
       "      <th>London Calling - The Clash</th>\n",
       "      <td>0.182462</td>\n",
       "    </tr>\n",
       "    <tr>\n",
       "      <th>God Save The Queen - Sex Pistols</th>\n",
       "      <td>-0.654654</td>\n",
       "    </tr>\n",
       "  </tbody>\n",
       "</table>\n",
       "</div>"
      ],
      "text/plain": [
       "                                    Correlation\n",
       "SongTitle                                      \n",
       "Over The Rainbow - Judy Garland        1.000000\n",
       "Waterloo Sunset - The Kinks            1.000000\n",
       "Sweet Child O'Mine - Guns N' Roses     0.866025\n",
       "London Calling - The Clash             0.182462\n",
       "God Save The Queen - Sex Pistols      -0.654654"
      ]
     },
     "execution_count": 28,
     "metadata": {},
     "output_type": "execute_result"
    }
   ],
   "source": [
    "# Below listed are similar to user choice Sorted based on the Correlation\n",
    "corrSimilarUserChoice.sort_values(\"Correlation\",ascending=False).head()"
   ]
  },
  {
   "cell_type": "code",
   "execution_count": 29,
   "metadata": {},
   "outputs": [],
   "source": [
    "corrSimilarUserChoice=corrSimilarUserChoice.join(Ratings[\"RatingCounts\"])"
   ]
  },
  {
   "cell_type": "code",
   "execution_count": 30,
   "metadata": {},
   "outputs": [
    {
     "data": {
      "text/html": [
       "<div>\n",
       "<style scoped>\n",
       "    .dataframe tbody tr th:only-of-type {\n",
       "        vertical-align: middle;\n",
       "    }\n",
       "\n",
       "    .dataframe tbody tr th {\n",
       "        vertical-align: top;\n",
       "    }\n",
       "\n",
       "    .dataframe thead th {\n",
       "        text-align: right;\n",
       "    }\n",
       "</style>\n",
       "<table border=\"1\" class=\"dataframe\">\n",
       "  <thead>\n",
       "    <tr style=\"text-align: right;\">\n",
       "      <th></th>\n",
       "      <th>Correlation</th>\n",
       "      <th>RatingCounts</th>\n",
       "    </tr>\n",
       "    <tr>\n",
       "      <th>SongTitle</th>\n",
       "      <th></th>\n",
       "      <th></th>\n",
       "    </tr>\n",
       "  </thead>\n",
       "  <tbody>\n",
       "    <tr>\n",
       "      <th>God Save The Queen - Sex Pistols</th>\n",
       "      <td>-0.654654</td>\n",
       "      <td>14</td>\n",
       "    </tr>\n",
       "    <tr>\n",
       "      <th>Hotel California - The Eagles</th>\n",
       "      <td>-0.866025</td>\n",
       "      <td>3</td>\n",
       "    </tr>\n",
       "    <tr>\n",
       "      <th>I Can't Get No Satisfaction - Rolling Stones</th>\n",
       "      <td>-0.993399</td>\n",
       "      <td>12</td>\n",
       "    </tr>\n",
       "    <tr>\n",
       "      <th>Like A Rolling Stone - Bob Dylan</th>\n",
       "      <td>-1.000000</td>\n",
       "      <td>6</td>\n",
       "    </tr>\n",
       "    <tr>\n",
       "      <th>London Calling - The Clash</th>\n",
       "      <td>0.182462</td>\n",
       "      <td>12</td>\n",
       "    </tr>\n",
       "  </tbody>\n",
       "</table>\n",
       "</div>"
      ],
      "text/plain": [
       "                                              Correlation  RatingCounts\n",
       "SongTitle                                                              \n",
       "God Save The Queen - Sex Pistols                -0.654654            14\n",
       "Hotel California - The Eagles                   -0.866025             3\n",
       "I Can't Get No Satisfaction - Rolling Stones    -0.993399            12\n",
       "Like A Rolling Stone - Bob Dylan                -1.000000             6\n",
       "London Calling - The Clash                       0.182462            12"
      ]
     },
     "execution_count": 30,
     "metadata": {},
     "output_type": "execute_result"
    }
   ],
   "source": [
    "corrSimilarUserChoice.head()"
   ]
  },
  {
   "cell_type": "code",
   "execution_count": 31,
   "metadata": {},
   "outputs": [
    {
     "data": {
      "text/html": [
       "<div>\n",
       "<style scoped>\n",
       "    .dataframe tbody tr th:only-of-type {\n",
       "        vertical-align: middle;\n",
       "    }\n",
       "\n",
       "    .dataframe tbody tr th {\n",
       "        vertical-align: top;\n",
       "    }\n",
       "\n",
       "    .dataframe thead th {\n",
       "        text-align: right;\n",
       "    }\n",
       "</style>\n",
       "<table border=\"1\" class=\"dataframe\">\n",
       "  <thead>\n",
       "    <tr style=\"text-align: right;\">\n",
       "      <th></th>\n",
       "      <th>Correlation</th>\n",
       "      <th>RatingCounts</th>\n",
       "    </tr>\n",
       "    <tr>\n",
       "      <th>SongTitle</th>\n",
       "      <th></th>\n",
       "      <th></th>\n",
       "    </tr>\n",
       "  </thead>\n",
       "  <tbody>\n",
       "    <tr>\n",
       "      <th>London Calling - The Clash</th>\n",
       "      <td>0.182462</td>\n",
       "      <td>12</td>\n",
       "    </tr>\n",
       "    <tr>\n",
       "      <th>God Save The Queen - Sex Pistols</th>\n",
       "      <td>-0.654654</td>\n",
       "      <td>14</td>\n",
       "    </tr>\n",
       "    <tr>\n",
       "      <th>I Can't Get No Satisfaction - Rolling Stones</th>\n",
       "      <td>-0.993399</td>\n",
       "      <td>12</td>\n",
       "    </tr>\n",
       "  </tbody>\n",
       "</table>\n",
       "</div>"
      ],
      "text/plain": [
       "                                              Correlation  RatingCounts\n",
       "SongTitle                                                              \n",
       "London Calling - The Clash                       0.182462            12\n",
       "God Save The Queen - Sex Pistols                -0.654654            14\n",
       "I Can't Get No Satisfaction - Rolling Stones    -0.993399            12"
      ]
     },
     "execution_count": 31,
     "metadata": {},
     "output_type": "execute_result"
    }
   ],
   "source": [
    "corrSimilarUserChoice[corrSimilarUserChoice[\"RatingCounts\"]>10].sort_values('Correlation',ascending=False)"
   ]
  }
 ],
 "metadata": {
  "kernelspec": {
   "display_name": "Python 3",
   "language": "python",
   "name": "python3"
  },
  "language_info": {
   "codemirror_mode": {
    "name": "ipython",
    "version": 3
   },
   "file_extension": ".py",
   "mimetype": "text/x-python",
   "name": "python",
   "nbconvert_exporter": "python",
   "pygments_lexer": "ipython3",
   "version": "3.8.5"
  }
 },
 "nbformat": 4,
 "nbformat_minor": 4
}
